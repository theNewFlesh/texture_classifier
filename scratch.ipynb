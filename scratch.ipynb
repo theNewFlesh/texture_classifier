{
 "cells": [
  {
   "cell_type": "code",
   "execution_count": 169,
   "metadata": {
    "collapsed": false
   },
   "outputs": [
    {
     "name": "stdout",
     "output_type": "stream",
     "text": [
      "The snakeviz extension is already loaded. To reload it, use:\n",
      "  %reload_ext snakeviz\n"
     ]
    }
   ],
   "source": [
    "%run ~/google_drive/code/dev/ipython/profile_dev/startup/__init__.py\n",
    "%matplotlib inline\n",
    "%load_ext snakeviz\n",
    "from PIL import Image, ImageOps, ImageColor"
   ]
  },
  {
   "cell_type": "code",
   "execution_count": 104,
   "metadata": {
    "collapsed": false
   },
   "outputs": [],
   "source": [
    "info = os.listdir('/Users/alexbraun/Downloads/data/arroway_wood/data')\n",
    "info = filter(lambda x: re.search('diffuse', x), info)\n",
    "info = filter(lambda x: re.search('_a_', x), info)\n",
    "info = map(lambda x: re.search('.*_(.*)_diffuse', x).group(1), info)\n",
    "info = sorted(info)\n",
    "idwood = pd.read_csv('/Users/alexbraun/google_drive/code/projects/texture_classifier/data/identifying_wood_data.csv')\n",
    "\n",
    "temp = list(set(list(chain(*map(lambda x: x.split('-'), info)))))\n",
    "def has_keyword(item):\n",
    "    output = []\n",
    "    for regex in temp:\n",
    "        found = re.search(regex, item, re.IGNORECASE)\n",
    "        if found:\n",
    "            output.append(found.group(0))\n",
    "    if output:\n",
    "        return ' '.join(output)\n",
    "    return False\n",
    "    \n",
    "for col in ['common_name']:#, 'scientific_name']:\n",
    "    new_col = 'found_' + col\n",
    "    idwood[new_col] = None\n",
    "    idwood[new_col] = idwood[col].apply(has_keyword)\n",
    "    \n",
    "x = idwood[(idwood.found_common_name != False)]# | (idwood.found_scientific_name != False)]"
   ]
  },
  {
   "cell_type": "code",
   "execution_count": 101,
   "metadata": {
    "collapsed": false,
    "scrolled": false
   },
   "outputs": [],
   "source": [
    "sci = x[x.found_scientific_name != False].index\n",
    "# x.found_scientific_name.tolist()"
   ]
  },
  {
   "cell_type": "code",
   "execution_count": 115,
   "metadata": {
    "collapsed": false
   },
   "outputs": [],
   "source": [
    "mask = x.found_common_name.apply(lambda x: x not in ['fir', 'cedar', 'white', 'black', 'red'])\n",
    "x = x[mask][['common_name', 'found_common_name']]"
   ]
  },
  {
   "cell_type": "code",
   "execution_count": 73,
   "metadata": {
    "collapsed": true
   },
   "outputs": [
    {
     "data": {
      "text/plain": [
       "['/Users/alexbraun/Documents/projects/texture_classifier/data/wood_001_a_alder-black_diffuse.png',\n",
       " '/Users/alexbraun/Documents/projects/texture_classifier/data/wood_002_a_apple-tree_diffuse.png',\n",
       " '/Users/alexbraun/Documents/projects/texture_classifier/data/wood_003_a_ash-european_diffuse.png',\n",
       " '/Users/alexbraun/Documents/projects/texture_classifier/data/wood_004_a_ash-brown_diffuse.png',\n",
       " '/Users/alexbraun/Documents/projects/texture_classifier/data/wood_005_a_ash-olive_diffuse.png',\n",
       " '/Users/alexbraun/Documents/projects/texture_classifier/data/wood_006_a_beech-european_diffuse.png',\n",
       " '/Users/alexbraun/Documents/projects/texture_classifier/data/wood_007_a_beech-core_diffuse.png',\n",
       " '/Users/alexbraun/Documents/projects/texture_classifier/data/wood_008_a_beech-hearted_diffuse.png',\n",
       " '/Users/alexbraun/Documents/projects/texture_classifier/data/wood_009_a_beech-unsteamed_diffuse.png',\n",
       " '/Users/alexbraun/Documents/projects/texture_classifier/data/wood_010_a_birch-european_diffuse.png',\n",
       " '/Users/alexbraun/Documents/projects/texture_classifier/data/wood_011_a_birch-apple_diffuse.png',\n",
       " '/Users/alexbraun/Documents/projects/texture_classifier/data/wood_012_a_birch-masers_diffuse.png',\n",
       " '/Users/alexbraun/Documents/projects/texture_classifier/data/wood_013_a_birch-peeled_diffuse.png',\n",
       " '/Users/alexbraun/Documents/projects/texture_classifier/data/wood_014_a_cherry-european_diffuse.png',\n",
       " '/Users/alexbraun/Documents/projects/texture_classifier/data/wood_015_a_chestnut-sweet_diffuse.png',\n",
       " '/Users/alexbraun/Documents/projects/texture_classifier/data/wood_016_a_elm-smooth-leaved_diffuse.png',\n",
       " '/Users/alexbraun/Documents/projects/texture_classifier/data/wood_017_a_hornbeam-european_diffuse.png',\n",
       " '/Users/alexbraun/Documents/projects/texture_classifier/data/wood_018_a_larch-european_diffuse.png',\n",
       " '/Users/alexbraun/Documents/projects/texture_classifier/data/wood_019_a_larch-antique_diffuse.png',\n",
       " '/Users/alexbraun/Documents/projects/texture_classifier/data/wood_020_a_lime-european_diffuse.png',\n",
       " '/Users/alexbraun/Documents/projects/texture_classifier/data/wood_021_a_maple-great_diffuse.png',\n",
       " '/Users/alexbraun/Documents/projects/texture_classifier/data/wood_022_a_maple-core_diffuse.png',\n",
       " '/Users/alexbraun/Documents/projects/texture_classifier/data/wood_023_a_maple-norwegian_diffuse.png',\n",
       " '/Users/alexbraun/Documents/projects/texture_classifier/data/wood_024_a_oak-european_diffuse.png',\n",
       " '/Users/alexbraun/Documents/projects/texture_classifier/data/wood_025_a_oak-bog_diffuse.png',\n",
       " '/Users/alexbraun/Documents/projects/texture_classifier/data/wood_026_a_oak-copper_diffuse.png',\n",
       " '/Users/alexbraun/Documents/projects/texture_classifier/data/wood_027_a_oak-knot_diffuse.png',\n",
       " '/Users/alexbraun/Documents/projects/texture_classifier/data/wood_028_a_oak-old_diffuse.png',\n",
       " '/Users/alexbraun/Documents/projects/texture_classifier/data/wood_029_a_olivetree_diffuse.png',\n",
       " '/Users/alexbraun/Documents/projects/texture_classifier/data/wood_030_a_pear_diffuse.png',\n",
       " '/Users/alexbraun/Documents/projects/texture_classifier/data/wood_031_a_plane-european_diffuse.png',\n",
       " '/Users/alexbraun/Documents/projects/texture_classifier/data/wood_032_a_poplar-black_diffuse.png',\n",
       " '/Users/alexbraun/Documents/projects/texture_classifier/data/wood_033_a_poplar-black-masers_diffuse.png',\n",
       " '/Users/alexbraun/Documents/projects/texture_classifier/data/wood_034_a_scotch-pine_diffuse.png',\n",
       " '/Users/alexbraun/Documents/projects/texture_classifier/data/wood_035_a_scotch-pine-knot_diffuse.png',\n",
       " '/Users/alexbraun/Documents/projects/texture_classifier/data/wood_036_a_silver-fir_diffuse.png',\n",
       " '/Users/alexbraun/Documents/projects/texture_classifier/data/wood_037_a_swiss-stone-pine_diffuse.png',\n",
       " '/Users/alexbraun/Documents/projects/texture_classifier/data/wood_038_a_walnut-european_diffuse.png',\n",
       " '/Users/alexbraun/Documents/projects/texture_classifier/data/wood_039_a_whitewood_diffuse.png',\n",
       " '/Users/alexbraun/Documents/projects/texture_classifier/data/wood_040_a_whitewood-antique_diffuse.png',\n",
       " '/Users/alexbraun/Documents/projects/texture_classifier/data/wood_041_a_whitewood-knot_diffuse.png',\n",
       " '/Users/alexbraun/Documents/projects/texture_classifier/data/wood_042_a_whitewood-old_diffuse.png',\n",
       " '/Users/alexbraun/Documents/projects/texture_classifier/data/wood_043_a_wild-service-tree_diffuse.png',\n",
       " '/Users/alexbraun/Documents/projects/texture_classifier/data/wood_044_a_willow-white_diffuse.png',\n",
       " '/Users/alexbraun/Documents/projects/texture_classifier/data/wood_045_a_yew-european_diffuse.png',\n",
       " '/Users/alexbraun/Documents/projects/texture_classifier/data/wood_046_a_afara-white_diffuse.png',\n",
       " '/Users/alexbraun/Documents/projects/texture_classifier/data/wood_047_a_afrormosia_diffuse.png',\n",
       " '/Users/alexbraun/Documents/projects/texture_classifier/data/wood_048_a_afzelia_diffuse.png',\n",
       " '/Users/alexbraun/Documents/projects/texture_classifier/data/wood_049_a_amazakou-light_diffuse.png',\n",
       " '/Users/alexbraun/Documents/projects/texture_classifier/data/wood_049_a_amazakou_diffuse.png',\n",
       " '/Users/alexbraun/Documents/projects/texture_classifier/data/wood_050_a_aningeria-gray_diffuse.png',\n",
       " '/Users/alexbraun/Documents/projects/texture_classifier/data/wood_050_a_aningeria_diffuse.png',\n",
       " '/Users/alexbraun/Documents/projects/texture_classifier/data/wood_051_a_antiaris_diffuse.png',\n",
       " '/Users/alexbraun/Documents/projects/texture_classifier/data/wood_052_a_bamboo-dark_diffuse.png',\n",
       " '/Users/alexbraun/Documents/projects/texture_classifier/data/wood_052_a_bamboo_diffuse.png',\n",
       " '/Users/alexbraun/Documents/projects/texture_classifier/data/wood_053_a_blue-gum-dark_diffuse.png',\n",
       " '/Users/alexbraun/Documents/projects/texture_classifier/data/wood_053_a_blue-gum_diffuse.png',\n",
       " '/Users/alexbraun/Documents/projects/texture_classifier/data/wood_054_a_bubinga_diffuse.png',\n",
       " '/Users/alexbraun/Documents/projects/texture_classifier/data/wood_055_a_cedar-lebanon_diffuse.png',\n",
       " '/Users/alexbraun/Documents/projects/texture_classifier/data/wood_056_a_ebony-macassar_diffuse.png',\n",
       " '/Users/alexbraun/Documents/projects/texture_classifier/data/wood_057_a_freijo-light_diffuse.png',\n",
       " '/Users/alexbraun/Documents/projects/texture_classifier/data/wood_057_a_freijo_diffuse.png',\n",
       " '/Users/alexbraun/Documents/projects/texture_classifier/data/wood_058_a_gedu-nohor_diffuse.png',\n",
       " '/Users/alexbraun/Documents/projects/texture_classifier/data/wood_059_a_guarea_diffuse.png',\n",
       " '/Users/alexbraun/Documents/projects/texture_classifier/data/wood_060_a_iroko_diffuse.png',\n",
       " '/Users/alexbraun/Documents/projects/texture_classifier/data/wood_061_a_lati-light_diffuse.png',\n",
       " '/Users/alexbraun/Documents/projects/texture_classifier/data/wood_061_a_lati_diffuse.png',\n",
       " '/Users/alexbraun/Documents/projects/texture_classifier/data/wood_062_a_mahogany-african-dark_diffuse.png',\n",
       " '/Users/alexbraun/Documents/projects/texture_classifier/data/wood_062_a_mahogany-african_diffuse.png',\n",
       " '/Users/alexbraun/Documents/projects/texture_classifier/data/wood_063_a_makore_diffuse.png',\n",
       " '/Users/alexbraun/Documents/projects/texture_classifier/data/wood_064_a_mansonia-light_diffuse.png',\n",
       " '/Users/alexbraun/Documents/projects/texture_classifier/data/wood_064_a_mansonia_diffuse.png',\n",
       " '/Users/alexbraun/Documents/projects/texture_classifier/data/wood_065_a_merbau_diffuse.png',\n",
       " '/Users/alexbraun/Documents/projects/texture_classifier/data/wood_066_a_moabi_diffuse.png',\n",
       " '/Users/alexbraun/Documents/projects/texture_classifier/data/wood_067_a_okoume_diffuse.png',\n",
       " '/Users/alexbraun/Documents/projects/texture_classifier/data/wood_068_a_olive-black_diffuse.png',\n",
       " '/Users/alexbraun/Documents/projects/texture_classifier/data/wood_069_a_padauk-african-brown_diffuse.png',\n",
       " '/Users/alexbraun/Documents/projects/texture_classifier/data/wood_069_a_padauk-african_diffuse.png',\n",
       " '/Users/alexbraun/Documents/projects/texture_classifier/data/wood_070_a_pterygota_diffuse.png',\n",
       " '/Users/alexbraun/Documents/projects/texture_classifier/data/wood_071_a_rosewood-indian_diffuse.png',\n",
       " '/Users/alexbraun/Documents/projects/texture_classifier/data/wood_072_a_sapele-light_diffuse.png',\n",
       " '/Users/alexbraun/Documents/projects/texture_classifier/data/wood_072_a_sapele_diffuse.png',\n",
       " '/Users/alexbraun/Documents/projects/texture_classifier/data/wood_073_a_satinwood-ceylon-red_diffuse.png',\n",
       " '/Users/alexbraun/Documents/projects/texture_classifier/data/wood_073_a_satinwood-ceylon_diffuse.png',\n",
       " '/Users/alexbraun/Documents/projects/texture_classifier/data/wood_074_a_sen_diffuse.png',\n",
       " '/Users/alexbraun/Documents/projects/texture_classifier/data/wood_075_a_teak_diffuse.png',\n",
       " '/Users/alexbraun/Documents/projects/texture_classifier/data/wood_076_a_walnut-african_diffuse.png',\n",
       " '/Users/alexbraun/Documents/projects/texture_classifier/data/wood_077_a_wenge_diffuse.png',\n",
       " '/Users/alexbraun/Documents/projects/texture_classifier/data/wood_078_a_zebrano-dark_diffuse.png',\n",
       " '/Users/alexbraun/Documents/projects/texture_classifier/data/wood_078_a_zebrano_diffuse.png',\n",
       " '/Users/alexbraun/Documents/projects/texture_classifier/data/wood_079_a_alder-red_diffuse.png',\n",
       " '/Users/alexbraun/Documents/projects/texture_classifier/data/wood_080_a_amburana_diffuse.png',\n",
       " '/Users/alexbraun/Documents/projects/texture_classifier/data/wood_081_a_arariba-light_diffuse.png',\n",
       " '/Users/alexbraun/Documents/projects/texture_classifier/data/wood_081_a_arariba_diffuse.png',\n",
       " '/Users/alexbraun/Documents/projects/texture_classifier/data/wood_082_a_bloodwood_diffuse.png',\n",
       " '/Users/alexbraun/Documents/projects/texture_classifier/data/wood_083_a_cedar-western-red-light_diffuse.png',\n",
       " '/Users/alexbraun/Documents/projects/texture_classifier/data/wood_083_a_cedar-western-red_diffuse.png',\n",
       " '/Users/alexbraun/Documents/projects/texture_classifier/data/wood_084_a_ceiba_diffuse.png',\n",
       " '/Users/alexbraun/Documents/projects/texture_classifier/data/wood_085_a_cherry-black-red_diffuse.png',\n",
       " '/Users/alexbraun/Documents/projects/texture_classifier/data/wood_085_a_cherry-black_diffuse.png',\n",
       " '/Users/alexbraun/Documents/projects/texture_classifier/data/wood_086_a_coigue-light_diffuse.png',\n",
       " '/Users/alexbraun/Documents/projects/texture_classifier/data/wood_086_a_coigue_diffuse.png',\n",
       " '/Users/alexbraun/Documents/projects/texture_classifier/data/wood_087_a_courbaril-light_diffuse.png',\n",
       " '/Users/alexbraun/Documents/projects/texture_classifier/data/wood_087_a_courbaril_diffuse.png',\n",
       " '/Users/alexbraun/Documents/projects/texture_classifier/data/wood_088_a_goncalo-alves_diffuse.png',\n",
       " '/Users/alexbraun/Documents/projects/texture_classifier/data/wood_089_a_hemlock-light_diffuse.png',\n",
       " '/Users/alexbraun/Documents/projects/texture_classifier/data/wood_089_a_hemlock_diffuse.png',\n",
       " '/Users/alexbraun/Documents/projects/texture_classifier/data/wood_090_a_honey-locust-light_diffuse.png',\n",
       " '/Users/alexbraun/Documents/projects/texture_classifier/data/wood_090_a_honey-locust_diffuse.png',\n",
       " '/Users/alexbraun/Documents/projects/texture_classifier/data/wood_091_a_kingwood_diffuse.png',\n",
       " '/Users/alexbraun/Documents/projects/texture_classifier/data/wood_092_a_louro-preto_diffuse.png',\n",
       " '/Users/alexbraun/Documents/projects/texture_classifier/data/wood_093_a_macahuba_diffuse.png',\n",
       " '/Users/alexbraun/Documents/projects/texture_classifier/data/wood_094_a_mandrone_diffuse.png',\n",
       " '/Users/alexbraun/Documents/projects/texture_classifier/data/wood_095_a_mahogany-american-dark_diffuse.png',\n",
       " '/Users/alexbraun/Documents/projects/texture_classifier/data/wood_095_a_mahogany-american_diffuse.png',\n",
       " '/Users/alexbraun/Documents/projects/texture_classifier/data/wood_096_a_manio_diffuse.png',\n",
       " '/Users/alexbraun/Documents/projects/texture_classifier/data/wood_097_a_maple-birdseye_diffuse.png',\n",
       " '/Users/alexbraun/Documents/projects/texture_classifier/data/wood_098_a_maple_diffuse.png',\n",
       " '/Users/alexbraun/Documents/projects/texture_classifier/data/wood_099_a_oak-red-american_diffuse.png',\n",
       " '/Users/alexbraun/Documents/projects/texture_classifier/data/wood_100_a_oak-white-american-light_diffuse.png',\n",
       " '/Users/alexbraun/Documents/projects/texture_classifier/data/wood_100_a_oak-white-american_diffuse.png',\n",
       " '/Users/alexbraun/Documents/projects/texture_classifier/data/wood_101_a_pine-columbian-light_diffuse.png',\n",
       " '/Users/alexbraun/Documents/projects/texture_classifier/data/wood_101_a_pine-columbian_diffuse.png',\n",
       " '/Users/alexbraun/Documents/projects/texture_classifier/data/wood_102_a_pine-north-carolina-dark_diffuse.png',\n",
       " '/Users/alexbraun/Documents/projects/texture_classifier/data/wood_102_a_pine-north-carolina_diffuse.png',\n",
       " '/Users/alexbraun/Documents/projects/texture_classifier/data/wood_103_a_rauli_diffuse.png',\n",
       " '/Users/alexbraun/Documents/projects/texture_classifier/data/wood_104_a_robinia_diffuse.png',\n",
       " '/Users/alexbraun/Documents/projects/texture_classifier/data/wood_105_a_rosewood-santos-red_diffuse.png',\n",
       " '/Users/alexbraun/Documents/projects/texture_classifier/data/wood_105_a_rosewood-santos_diffuse.png',\n",
       " '/Users/alexbraun/Documents/projects/texture_classifier/data/wood_106_a_sucupira_diffuse.png',\n",
       " '/Users/alexbraun/Documents/projects/texture_classifier/data/wood_107_a_sweet-gum-light_diffuse.png',\n",
       " '/Users/alexbraun/Documents/projects/texture_classifier/data/wood_107_a_sweet-gum_diffuse.png',\n",
       " '/Users/alexbraun/Documents/projects/texture_classifier/data/wood_108_a_tineo_diffuse.png',\n",
       " '/Users/alexbraun/Documents/projects/texture_classifier/data/wood_109_a_walnut-black-american-light_diffuse.png',\n",
       " '/Users/alexbraun/Documents/projects/texture_classifier/data/wood_109_a_walnut-black-american_diffuse.png',\n",
       " '/Users/alexbraun/Documents/projects/texture_classifier/data/wood_110_a_walnut-peruvian_diffuse.png',\n",
       " '/Users/alexbraun/Documents/projects/texture_classifier/data/wood_111_a_whitewood-american_diffuse.png']"
      ]
     },
     "execution_count": 73,
     "metadata": {},
     "output_type": "execute_result"
    }
   ],
   "source": [
    "# BASE = '/Volumes/abraun.backup.01/project folders/texture_classifier/data'\n",
    "BASE = '/Users/alexbraun/Documents/projects/texture_classifier/data'\n",
    "PASS = 'diffuse'\n",
    "IMAGE_CLASS = 'a'\n",
    "\n",
    "samples = []\n",
    "for file_ in os.listdir(BASE):\n",
    "    if re.search('_'+IMAGE_CLASS+'_' + '.*' + PASS, file_):\n",
    "        samples.append(os.path.join(BASE, file_))\n",
    "samples = sorted(samples)\n",
    "samples"
   ]
  },
  {
   "cell_type": "code",
   "execution_count": 254,
   "metadata": {
    "collapsed": false,
    "scrolled": false
   },
   "outputs": [
    {
     "name": "stdout",
     "output_type": "stream",
     "text": [
      "/Users/alexbraun/google_drive/code/projects/texture_classifier/python\n"
     ]
    }
   ],
   "source": [
    "%cd /Users/alexbraun/google_drive/code/projects/texture_classifier/python\n",
    "import core.image_scanner\n",
    "reload(core.image_scanner)\n",
    "from core.image_scanner import ImageScanner\n",
    "\n",
    "img = Image.open(samples[0])\n",
    "self = ImageScanner(img, min_size=0.1, max_size=0.2, aspect_ratio=1)\n",
    "x = self.grid_scan(resolutions='random', replace=True)\n",
    "for i in xrange(10):\n",
    "    x.next().show()"
   ]
  },
  {
   "cell_type": "code",
   "execution_count": null,
   "metadata": {
    "collapsed": true
   },
   "outputs": [],
   "source": []
  }
 ],
 "metadata": {
  "kernelspec": {
   "display_name": "Python 2",
   "language": "python",
   "name": "python2"
  },
  "language_info": {
   "codemirror_mode": {
    "name": "ipython",
    "version": 2
   },
   "file_extension": ".py",
   "mimetype": "text/x-python",
   "name": "python",
   "nbconvert_exporter": "python",
   "pygments_lexer": "ipython2",
   "version": "2.7.10"
  }
 },
 "nbformat": 4,
 "nbformat_minor": 0
}
