{
 "cells": [
  {
   "cell_type": "code",
   "execution_count": 104,
   "metadata": {
    "collapsed": false
   },
   "outputs": [],
   "source": [
    "info = os.listdir('/Users/alexbraun/Downloads/data/arroway_wood/data')\n",
    "info = filter(lambda x: re.search('diffuse', x), info)\n",
    "info = filter(lambda x: re.search('_a_', x), info)\n",
    "info = map(lambda x: re.search('.*_(.*)_diffuse', x).group(1), info)\n",
    "info = sorted(info)\n",
    "idwood = pd.read_csv('/Users/alexbraun/google_drive/code/projects/texture_classifier/data/identifying_wood_data.csv')\n",
    "\n",
    "temp = list(set(list(chain(*map(lambda x: x.split('-'), info)))))\n",
    "def has_keyword(item):\n",
    "    output = []\n",
    "    for regex in temp:\n",
    "        found = re.search(regex, item, re.IGNORECASE)\n",
    "        if found:\n",
    "            output.append(found.group(0))\n",
    "    if output:\n",
    "        return ' '.join(output)\n",
    "    return False\n",
    "    \n",
    "for col in ['common_name']:#, 'scientific_name']:\n",
    "    new_col = 'found_' + col\n",
    "    idwood[new_col] = None\n",
    "    idwood[new_col] = idwood[col].apply(has_keyword)\n",
    "    \n",
    "x = idwood[(idwood.found_common_name != False)]# | (idwood.found_scientific_name != False)]"
   ]
  },
  {
   "cell_type": "code",
   "execution_count": 101,
   "metadata": {
    "collapsed": false,
    "scrolled": false
   },
   "outputs": [],
   "source": [
    "sci = x[x.found_scientific_name != False].index\n",
    "# x.found_scientific_name.tolist()"
   ]
  },
  {
   "cell_type": "code",
   "execution_count": 115,
   "metadata": {
    "collapsed": false
   },
   "outputs": [],
   "source": [
    "mask = x.found_common_name.apply(lambda x: x not in ['fir', 'cedar', 'white', 'black', 'red'])\n",
    "x = x[mask][['common_name', 'found_common_name']]"
   ]
  },
  {
   "cell_type": "code",
   "execution_count": 11,
   "metadata": {
    "collapsed": false,
    "scrolled": true
   },
   "outputs": [
    {
     "name": "stdout",
     "output_type": "stream",
     "text": [
      "/Users/alexbraun/google_drive/code/projects/texture_classifier/python\n"
     ]
    }
   ],
   "source": [
    "# %%snakeviz\n",
    "%cd /Users/alexbraun/google_drive/code/projects/texture_classifier/python \n",
    "from sklearn.ensemble import RandomForestClassifier\n",
    "\n",
    "import core.image_scanner\n",
    "reload(core.image_scanner)\n",
    "from core.image_scanner import ImageScanner\n",
    "\n",
    "import core.utils\n",
    "reload(core.utils)\n",
    "from core.utils import *\n",
    "\n",
    "# root = '/Volumes/abraun.backup.01/project folders/texture_classifier/data'\n",
    "root = '/Users/alexbraun/Documents/projects/texture_classifier/data'\n",
    "\n",
    "spec = ['texture', 'image_id', 'image_class', 'common_name', 'pass_', 'extension']\n",
    "info = get_series_info(root, spec)\n",
    "info = info[(info.image_class == 'a') & (info.pass_ == 'diffuse')]\n",
    "info = info.head()\n",
    "\n",
    "patches = 1000\n",
    "\n",
    "y = info.common_name.apply(lambda x: [x]) * patches\n",
    "y = list(chain(*y.tolist()))\n",
    "\n",
    "params = {\n",
    "            'aspect_ratio':     1,\n",
    "            'min_size':         0.05,\n",
    "            'max_size':         0.1,\n",
    "            'patches':          patches,\n",
    "            'patch_resolution': (100, 100),\n",
    "            'rotation':         'random'\n",
    "}\n",
    "\n",
    "# %time data = get_data(info, params)"
   ]
  },
  {
   "cell_type": "code",
   "execution_count": 194,
   "metadata": {
    "collapsed": false
   },
   "outputs": [],
   "source": [
    "# X.tofile('/Users/alexbraun/Documents/projects/texture_classifier/data/5-sample_1000-per-sample_100x100_rotation-dependent.txt')"
   ]
  },
  {
   "cell_type": "code",
   "execution_count": 221,
   "metadata": {
    "collapsed": false
   },
   "outputs": [
    {
     "data": {
      "text/plain": [
       "GridSearchCV(cv=None,\n",
       "       estimator=RandomForestClassifier(bootstrap=True, compute_importances=None,\n",
       "            criterion='gini', max_depth=None, max_features='auto',\n",
       "            max_leaf_nodes=None, min_density=None, min_samples_leaf=1,\n",
       "            min_samples_split=2, n_estimators=10, n_jobs=1,\n",
       "            oob_score=False, random_state=None, verbose=0),\n",
       "       fit_params={}, iid=True, loss_func=None, n_jobs=1,\n",
       "       param_grid={'n_estimators': [10], 'n_jobs': [-1]},\n",
       "       pre_dispatch='2*n_jobs', refit=True, score_func=None, scoring=None,\n",
       "       verbose=0)"
      ]
     },
     "execution_count": 221,
     "metadata": {},
     "output_type": "execute_result"
    }
   ],
   "source": [
    "clf = RandomForestClassifier()\n",
    "params = {\n",
    "    'n_estimators':        [10],\n",
    "#     'criterion':'          gini',\n",
    "#     'max_depth':           None,\n",
    "#     'min_samples_split':   2,\n",
    "#     'min_samples_leaf':    1,\n",
    "#     'max_features':'       'auto',\n",
    "#     'max_leaf_nodes':      None,\n",
    "#     'bootstrap':           True,\n",
    "#     'oob_score':           False,\n",
    "    'n_jobs':              [-1]\n",
    "#     'random_state':        None,\n",
    "#     'verbose':             0,\n",
    "#     'min_density':         None,\n",
    "#     'compute_importances': None\n",
    "}\n",
    "\n",
    "train_x, test_x, train_y, test_y = train_test_split(X, y, test_size=0.2)\n",
    "grid = GridSearchCV(clf, params)\n",
    "grid.fit(train_x, train_y)\n",
    "print(grid.best_score_)\n",
    "print(grid.best_estimator_.score(test_x, test_y))"
   ]
  },
  {
   "cell_type": "code",
   "execution_count": null,
   "metadata": {
    "collapsed": true
   },
   "outputs": [],
   "source": []
  }
 ],
 "metadata": {
  "kernelspec": {
   "display_name": "Python 2",
   "language": "python",
   "name": "python2"
  },
  "language_info": {
   "codemirror_mode": {
    "name": "ipython",
    "version": 2
   },
   "file_extension": ".py",
   "mimetype": "text/x-python",
   "name": "python",
   "nbconvert_exporter": "python",
   "pygments_lexer": "ipython2",
   "version": "2.7.10"
  }
 },
 "nbformat": 4,
 "nbformat_minor": 0
}
