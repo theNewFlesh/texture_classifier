{
 "cells": [
  {
   "cell_type": "code",
   "execution_count": 4,
   "metadata": {
    "collapsed": false
   },
   "outputs": [
    {
     "name": "stdout",
     "output_type": "stream",
     "text": [
      "/Users/alexbraun/google_drive/code/projects/sparse/python\n",
      "/Users/alexbraun/google_drive/code/projects/texture_classifier/python\n"
     ]
    }
   ],
   "source": [
    "%cd ~/google_drive/code/projects/sparse/python\n",
    "from sparse.core.sparse_dataframe import SparseDataFrame\n",
    "from sparse.utilities.utils import *\n",
    "\n",
    "%cd ~/google_drive/code/projects/texture_classifier/python\n",
    "# %cd /home/ubuntu/texture_classifier/python\n",
    "import multiprocessing\n",
    "import PIL\n",
    "from sklearn.cluster import KMeans\n",
    "from scipy.cluster import hierarchy\n",
    "from scipy.spatial.distance import pdist, squareform\n",
    "from sklearn.ensemble import RandomForestClassifier\n",
    "from sklearn.svm import SVC\n",
    "from sklearn.grid_search import GridSearchCV\n",
    "from sklearn.cross_validation import train_test_split\n",
    "from sklearn.preprocessing import StandardScaler\n",
    "import cv2\n",
    "from pandas.io.pytables import HDFStore\n",
    "# from plotly import plotly\n",
    "# from plotly.graph_objs import *\n",
    "\n",
    "import core.utils\n",
    "reload(core.utils)\n",
    "from core.utils import *\n",
    "\n",
    "import core.image_scanner\n",
    "reload(core.image_scanner)\n",
    "from core.image_scanner import ImageScanner\n",
    "\n",
    "import core.pipeline\n",
    "reload(core.pipeline)\n",
    "from core.pipeline import *"
   ]
  },
  {
   "cell_type": "code",
   "execution_count": null,
   "metadata": {
    "collapsed": true
   },
   "outputs": [],
   "source": [
    "def archive(info, hdf_path, features=['r', 'g', 'b', 'h', 's', 'v', 'fft_max', 'fft_std']):\n",
    "    hdf = HDFStore(hdf_path)\n",
    "    data = get_data(info, features=features)\n",
    "    x = data.drop('y', axis=1)\n",
    "    y = data.y\n",
    "    train_x, test_x, train_y, test_y = train_test_split(x, y, test_size=0.2)\n",
    "    hdf['train_x'] = DataFrame(train_x)\n",
    "    hdf['test_x'] = DataFrame(test_x)\n",
    "    hdf['train_y'] = Series(train_y)\n",
    "    hdf['test_y'] = Series(test_y)\n",
    "    hdf.close()\n",
    "    return train_x, test_x, train_y, test_y"
   ]
  },
  {
   "cell_type": "code",
   "execution_count": 5,
   "metadata": {
    "collapsed": false
   },
   "outputs": [],
   "source": [
    "source = '/Users/alexbraun/Documents/data/texture_classifier/data/texture'\n",
    "spec = [\n",
    "    'material',\n",
    "    'image_id',\n",
    "    'common_name',\n",
    "    'origin',\n",
    "    'desc',\n",
    "    'extension'\n",
    "]\n",
    "\n",
    "wood_mask = [\n",
    "    'olive',\n",
    "    'european-ash',\n",
    "    'african-mahogany',\n",
    "    'bamboo',\n",
    "    'sapele',\n",
    "    'kingwood',\n",
    "    'teak'\n",
    "#     'european-lime',\n",
    "#     'makore'\n",
    "]"
   ]
  },
  {
   "cell_type": "code",
   "execution_count": 3,
   "metadata": {
    "collapsed": false,
    "scrolled": false
   },
   "outputs": [],
   "source": [
    "# # random scan\n",
    "# min_res = 10\n",
    "# max_res = 100\n",
    "# params = {\n",
    "#             'scan_method':      'random_scan',\n",
    "#             'min_resolution':   (min_res, min_res),\n",
    "#             'max_resolution':   (max_res, max_res),\n",
    "#             'patches':          50,\n",
    "#             'patch_resolution': (min_res, min_res),\n",
    "# #             'normalize':        True,\n",
    "#             'bins':             256\n",
    "# #             'rotation':         'random'\n",
    "# }\n",
    "\n",
    "# # grid scan\n",
    "min_res = 100\n",
    "max_res = 100\n",
    "params = {\n",
    "            'scan_method':      'grid_scan',\n",
    "            'min_resolution':   (min_res, min_res),\n",
    "            'max_resolution':   (max_res, max_res),\n",
    "            'resolutions':      1,\n",
    "            'spacing':          'even',\n",
    "#             'patch_resolution': (min_res, min_res),\n",
    "#             'normalize':        True,\n",
    "            'bins':             256\n",
    "}\n",
    "\n",
    "info = get_info(source, spec)\n",
    "# info = info[info.common_name.apply(lambda x: x in wood_mask)]\n",
    "\n",
    "# dataframes won't allow direct assignment of dicts\n",
    "info['params'] = None\n",
    "info.params = info.params.apply(lambda x: params)\n",
    "\n",
    "# info = info[(info.desc.apply(lambda x: '_d_' in x)) | (info.origin != 'arroway-textures')]\n",
    "\n",
    "info = info[info.desc.apply(lambda x: '_a_' in x)]\n",
    "info.common_name = info.common_name.apply(lambda x: re.sub('--.*', '', x))\n",
    "\n",
    "# train, test = info_split(info)\n",
    "\n",
    "# train_info = info[info.desc.apply(lambda x: '_d_' in x)]\n",
    "# test_info = info[info.origin == 'wood-database']i\n",
    "\n",
    "# train_x, test_x, train_y, test_y = archive(info, hdf_path)\n",
    "\n",
    "# info = info[info.origin != 'arroway-textures']\n",
    "info = info.head(20)"
   ]
  },
  {
   "cell_type": "code",
   "execution_count": null,
   "metadata": {
    "collapsed": false,
    "scrolled": false
   },
   "outputs": [],
   "source": [
    "# %%snakeviz\n",
    "\n",
    "version = '10'.zfill(3)\n",
    "hdf_path = '/Us00ers/alexbraun/Documents/data/texture_classifier/data/hdf/data.'\n",
    "hdf_path += version + '.aw-only.grid.hdf'\n",
    "\n",
    "# train_x, valid_x, test_x, train_y, valid_y, test_y = archive_data(train_info, test_info, hdf_path)\n",
    "# %time train_x, test_x, train_y, test_y = archive_data(train, test, hdf_path=hdf_path, cross_val=False)\n",
    "   \n",
    "# train_x, valid_x, test_x, train_y, valid_y, test_y = read_archive(hdf_path)\n",
    "\n",
    "# data = _batch_get_data(info)\n",
    "data = get_data(info, hdf_path, processes=20)"
   ]
  },
  {
   "cell_type": "code",
   "execution_count": null,
   "metadata": {
    "collapsed": false
   },
   "outputs": [],
   "source": [
    "clf = SVC()\n",
    "params = {\n",
    "    'C':            [1], #np.arange(0.1, 1, 0.1),\n",
    "    'kernel':       ['linear', 'rbf'],\n",
    "#     'degree':       [3],\n",
    "#     'gamma':        [0.0],\n",
    "#     'coef0':        [0.0],\n",
    "#     'shrinking':    [True],\n",
    "#     'probability':  [False],\n",
    "#     'tol':          [0.001],\n",
    "#     'cache_size':   [200],\n",
    "#     'class_weight': [None],\n",
    "#     'verbose':      [False],\n",
    "    'max_iter':     [1],\n",
    "#     'random_state': [None]\n",
    "}\n",
    "\n",
    "grid = GridSearchCV(clf, params, cv=5)\n",
    "%time grid.fit(train_x, train_y)\n",
    "print(grid.best_params_)\n",
    "# pred = grid.best_estimator_.predict(valid_x)\n",
    "# valid_report = get_report(valid_y, pred)\n",
    "# valid_report\n",
    "pred = grid.best_estimator_.predict(test_x)\n",
    "print(grid.best_estimator_.score(test_x, test_y))\n",
    "report = get_report(test_y, pred)\n",
    "report"
   ]
  },
  {
   "cell_type": "code",
   "execution_count": null,
   "metadata": {
    "collapsed": false,
    "scrolled": false
   },
   "outputs": [],
   "source": [
    "clf = RandomForestClassifier()\n",
    "params = {\n",
    "#     'n_estimators':        range(3, 20), #[10, 43, 100],\n",
    "#     'criterion':           ['gini'],\n",
    "#     'max_depth':           [None],\n",
    "#     'min_samples_split':   [2],\n",
    "#     'min_samples_leaf':    [1],\n",
    "#     'max_features':        ['auto', 100, 500, 1000],\n",
    "#     'max_leaf_nodes':      [None],\n",
    "#     'bootstrap':           [True],\n",
    "#     'oob_score':           [False],\n",
    "    'n_jobs':              [-1]\n",
    "#     'random_state':        [42]\n",
    "#     'verbose':             [0],\n",
    "#     'min_density':         [None],\n",
    "#     'compute_importances': [None]\n",
    "}\n",
    "\n",
    "grid = GridSearchCV(clf, params, cv=5)%time grid.fit(train_x, train_y)\n",
    "print(grid.best_params_)\n",
    "# pred = grid.best_estimator_.predict(valid_x)\n",
    "# valid_report = get_report(valid_y, pred)\n",
    "# valid_report\n",
    "pred = grid.best_estimator_.predict(test_x)\n",
    "print(grid.best_estimator_.score(test_x, test_y))\n",
    "report = get_report(test_y, pred)\n",
    "report"
   ]
  },
  {
   "cell_type": "code",
   "execution_count": null,
   "metadata": {
    "collapsed": false
   },
   "outputs": [],
   "source": [
    "def majority_vote(y_true, y_pred):\n",
    "    d = DataFrame([y_true, y_pred]).T\n",
    "    d.columns = ['ytrue', 'yhat']\n",
    "    lut = {k:i for i, k in enumerate(wood_mask)}\n",
    "    ilut = {v:k for k, v in lut.iteritems()}\n",
    "    d.yhat = d.yhat.apply(lambda x: lut[x])\n",
    "    d = d.groupby('ytrue').agg(lambda x: x.mode()).yhat.apply(lambda x: ilut[x])\n",
    "    d = DataFrame(d)\n",
    "    print(d[d.index == d.yhat].shape[0] / float(d.shape[0]))\n",
    "    return d\n",
    "\n",
    "def predict(info, estimator):\n",
    "    y = []\n",
    "    for i, row in info.iterrows():\n",
    "        x = get_data(row.to_frame().T)\n",
    "        x = x.drop('y', axis=1)\n",
    "        x = Series(estimator.predict(x)).mode().values[0]\n",
    "        y.append(x)\n",
    "    return Series(y)\n",
    "\n",
    "# majority_vote(test_y, pred)"
   ]
  },
  {
   "cell_type": "code",
   "execution_count": null,
   "metadata": {
    "collapsed": false
   },
   "outputs": [],
   "source": [
    "pred = predict(info, grid.best_estimator_)\n",
    "get_report(info.common_name, pred)"
   ]
  },
  {
   "cell_type": "code",
   "execution_count": null,
   "metadata": {
    "collapsed": true
   },
   "outputs": [],
   "source": []
  }
 ],
 "metadata": {
  "kernelspec": {
   "display_name": "Python 2",
   "language": "python",
   "name": "python2"
  },
  "language_info": {
   "codemirror_mode": {
    "name": "ipython",
    "version": 2
   },
   "file_extension": ".py",
   "mimetype": "text/x-python",
   "name": "python",
   "nbconvert_exporter": "python",
   "pygments_lexer": "ipython2",
   "version": "2.7.10"
  }
 },
 "nbformat": 4,
 "nbformat_minor": 0
}
