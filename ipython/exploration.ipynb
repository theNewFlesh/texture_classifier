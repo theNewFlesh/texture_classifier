{
 "cells": [
  {
   "cell_type": "code",
   "execution_count": 7,
   "metadata": {
    "collapsed": false
   },
   "outputs": [
    {
     "name": "stdout",
     "output_type": "stream",
     "text": [
      "/Users/alexbraun/google_drive/code/projects/sparse/python\n",
      "/Users/alexbraun/google_drive/code/projects/texture_classifier/python\n"
     ]
    }
   ],
   "source": [
    "%cd ~/google_drive/code/projects/sparse/python\n",
    "from sparse.core.sparse_dataframe import SparseDataFrame\n",
    "from sparse.utilities.utils import *\n",
    "\n",
    "%cd ~/google_drive/code/projects/texture_classifier/python\n",
    "# %cd /home/ubuntu/texture_classifier/python\n",
    "from PIL import Image\n",
    "from sklearn.cluster import KMeans\n",
    "from scipy.cluster import hierarchy\n",
    "from scipy.spatial.distance import pdist, squareform\n",
    "from sklearn.ensemble import RandomForestClassifier\n",
    "from sklearn.grid_search import GridSearchCV\n",
    "from sklearn.cross_validation import train_test_split\n",
    "import cv2\n",
    "# from plotly import plotly\n",
    "# from plotly.graph_objs import *\n",
    "\n",
    "import core.utils\n",
    "reload(core.utils)\n",
    "from core.utils import *\n",
    "\n",
    "import core.image_scanner\n",
    "reload(core.image_scanner)\n",
    "from core.image_scanner import ImageScanner\n",
    "\n",
    "def _random_scan(item, params):\n",
    "    return [x for x in ImageScanner(Image.open(item), **params).random_scan(params['patches'])]\n",
    "\n",
    "def _pil_to_opencv(item):\n",
    "    return cv2.cvtColor(cv2.cvtColor(np.array(item), cv2.COLOR_RGB2BGR), cv2.COLOR_BGR2RGB)\n",
    "\n",
    "def get_data(info):\n",
    "    data = info.copy()\n",
    "    \n",
    "    temp = data[['source', 'params']].apply(lambda x: (x['source'], x['params']), axis=1)\n",
    "    data.source = temp.apply(lambda x: _random_scan(x[0], x[1]))\n",
    "    \n",
    "    def func(item):\n",
    "        output = DataFrame()\n",
    "        output['source'] = item[0]\n",
    "        output['y'] = item[1]\n",
    "        output['params'] = None\n",
    "        output.params = output.params.apply(lambda x: item[2])\n",
    "        return output\n",
    "\n",
    "    sdf = SparseDataFrame(data)\n",
    "    data = sdf.merge_columns(['source', 'common_name', 'params'], func=func, new_column='new')\n",
    "    data = pd.concat(data.new.tolist(), ignore_index=True)\n",
    "    \n",
    "    data['rgb'] = data.source.apply(_pil_to_opencv)\n",
    "    data['hsv'] = data.rgb.apply(lambda x: cv2.cvtColor(x, cv2.COLOR_RGB2HSV))\n",
    "    \n",
    "    temp = data[['rgb', 'params']].apply(lambda x: (x['rgb'], x['params']), axis=1)\n",
    "    data['r'] = temp.apply(lambda x: get_channel_histogram(x[0], 'r', **x[1])).apply(lambda x: x.tolist())\n",
    "    data['g'] = temp.apply(lambda x: get_channel_histogram(x[0], 'g', **x[1])).apply(lambda x: x.tolist())\n",
    "    data['b'] = temp.apply(lambda x: get_channel_histogram(x[0], 'b', **x[1])).apply(lambda x: x.tolist())\n",
    "\n",
    "    temp = data[['hsv', 'params']].apply(lambda x: (x['hsv'], x['params']), axis=1)\n",
    "    data['h'] = temp.apply(lambda x: get_channel_histogram(x[0], 'h', **x[1])).apply(lambda x: x.tolist())\n",
    "    data['s'] = temp.apply(lambda x: get_channel_histogram(x[0], 's', **x[1])).apply(lambda x: x.tolist())\n",
    "    data['v'] = temp.apply(lambda x: get_channel_histogram(x[0], 'v', **x[1])).apply(lambda x: x.tolist())\n",
    "\n",
    "    sdf = SparseDataFrame(data)\n",
    "    data = sdf.flatten(dtype=list)\n",
    "    \n",
    "    data = data.drop(['source', 'params', 'rgb', 'hsv'], axis=1)\n",
    "    return data"
   ]
  },
  {
   "cell_type": "code",
   "execution_count": 2,
   "metadata": {
    "collapsed": true
   },
   "outputs": [],
   "source": [
    "source = '/Users/alexbraun/Documents/data/texture_classifier/data/png'\n",
    "# source = '/home/ubuntu/texture_classifier/data/png'\n",
    "spec = ['texture', 'image_id', 'image_class', 'common_name', 'pass_', 'source_extension']\n",
    "\n",
    "info = get_info(source, spec)\n",
    "info = info[(info.pass_ == 'diffuse') & (info.image_class == 'a')]\n",
    "info.reset_index(drop=True, inplace=True)\n",
    "info = info.head()\n",
    "\n",
    "params = {\n",
    "            'min_resolution':   (500, 500),\n",
    "            'max_resolution':   (500, 500),\n",
    "            'patches':                 100,\n",
    "            'patch_resolution': (500, 500),\n",
    "            'normalize': False,\n",
    "            'bins': 256\n",
    "#             'rotation':         'random'\n",
    "}\n",
    "info['params'] = None\n",
    "info.params = info.params.apply(lambda x: params)\n",
    "\n",
    "data = get_data(info)"
   ]
  },
  {
   "cell_type": "code",
   "execution_count": null,
   "metadata": {
    "collapsed": true
   },
   "outputs": [],
   "source": [
    "# RGB\n",
    "for image in images:\n",
    "    plot_histograms(image)"
   ]
  },
  {
   "cell_type": "code",
   "execution_count": null,
   "metadata": {
    "collapsed": true
   },
   "outputs": [],
   "source": [
    "# NORMALIZED RGB\n",
    "for image in images:\n",
    "    plot_histograms(image, normalize=True)"
   ]
  },
  {
   "cell_type": "code",
   "execution_count": null,
   "metadata": {
    "collapsed": true
   },
   "outputs": [],
   "source": [
    "# HSV\n",
    "for image in images:\n",
    "    plot_histograms(cv2.cvtColor(image, cv2.COLOR_RGB2HSV))"
   ]
  },
  {
   "cell_type": "code",
   "execution_count": null,
   "metadata": {
    "collapsed": true
   },
   "outputs": [],
   "source": [
    "# NORMALIZED HSV\n",
    "for image in images:\n",
    "    plot_histograms(cv2.cvtColor(image, cv2.COLOR_RGB2HSV), normalize=True)"
   ]
  },
  {
   "cell_type": "code",
   "execution_count": null,
   "metadata": {
    "collapsed": true
   },
   "outputs": [],
   "source": [
    "# RED\n",
    "for image in images:\n",
    "    plot_channel_histogram(image, 'r')\n",
    "    \n",
    "# 10 distinct reds"
   ]
  },
  {
   "cell_type": "code",
   "execution_count": null,
   "metadata": {
    "collapsed": true
   },
   "outputs": [],
   "source": [
    "# GREEN\n",
    "for image in images:\n",
    "    plot_channel_histogram(image, 'g')\n",
    "    \n",
    "# 2 to 8 distinct greens"
   ]
  },
  {
   "cell_type": "code",
   "execution_count": null,
   "metadata": {
    "collapsed": true
   },
   "outputs": [],
   "source": [
    "# BLUE\n",
    "for image in images:\n",
    "    plot_channel_histogram(image, 'b')\n",
    "\n",
    "# 3 or 5 distinct blues"
   ]
  },
  {
   "cell_type": "code",
   "execution_count": null,
   "metadata": {
    "collapsed": false
   },
   "outputs": [],
   "source": [
    "for image in hsv:\n",
    "    plot_channel_histogram(image, 'v', normalize=True)"
   ]
  },
  {
   "cell_type": "code",
   "execution_count": null,
   "metadata": {
    "collapsed": false
   },
   "outputs": [],
   "source": [
    "X = data.drop('y', axis=1)\n",
    "y = data.y\n",
    "\n",
    "train_x, test_x, train_y, test_y = train_test_split(X, y, test_size=0.2)\n",
    "\n",
    "clf = RandomForestClassifier()\n",
    "params = {\n",
    "#     'n_estimators':        [10]\n",
    "#     'criterion':           ['gini'],\n",
    "#     'max_depth':           [None],\n",
    "#     'min_samples_split':   [2],\n",
    "#     'min_samples_leaf':    [1],\n",
    "#     'max_features':        ['auto'],\n",
    "#     'max_leaf_nodes':      [None],\n",
    "#     'bootstrap':           [True],\n",
    "#     'oob_score':           [False],\n",
    "#     'n_jobs':              [-1]\n",
    "#     'random_state':        [42]\n",
    "#     'verbose':             [0],\n",
    "#     'min_density':         [None],\n",
    "#     'compute_importances': [None]\n",
    "}\n",
    "grid = GridSearchCV(clf, params)\n",
    "grid.fit(train_x, train_y)\n",
    "# print(grid.best_score_)\n",
    "# classification_report()"
   ]
  },
  {
   "cell_type": "code",
   "execution_count": 5,
   "metadata": {
    "collapsed": false
   },
   "outputs": [],
   "source": [
    "layout = {\n",
    "    u'autosize': True,\n",
    "    u'font': {\n",
    "        u'color': u'rgb(217, 217, 217)'\n",
    "    },\n",
    "    u'margin': {\n",
    "        u'autoexpand': True,\n",
    "        u'b': 40,\n",
    "        u'l': 40,\n",
    "        u'r': 40,\n",
    "        u't': 40},\n",
    "    u'paper_bgcolor': u'rgb(36, 36, 36)',\n",
    "    u'scene': {\n",
    "        u'aspectratio': {\n",
    "            u'x': 1, \n",
    "            u'y': 1, \n",
    "            u'z': 1\n",
    "        },\n",
    "        u'bgcolor': u'rgb(36, 36, 36)',\n",
    "        u'xaxis': {\n",
    "            u'gridcolor': u'rgb(146, 178, 222)',\n",
    "            u'gridwidth': 1.3,\n",
    "            u'showgrid': True,\n",
    "            u'showticklabels': True,\n",
    "            u'type': u'linear',\n",
    "            u'zeroline': False,\n",
    "            u'zerolinecolor': u'rgb(255, 255, 255)'\n",
    "        },\n",
    "        u'yaxis': {\n",
    "            u'gridcolor': u'rgb(146, 178, 222)',\n",
    "            u'gridwidth': 1.3,\n",
    "            u'showgrid': True,\n",
    "            u'showticklabels': True,\n",
    "            u'type': u'linear',\n",
    "            u'zeroline': False,\n",
    "            u'zerolinecolor': u'rgb(255, 255, 255)'\n",
    "        },\n",
    "        u'zaxis': {\n",
    "            u'gridcolor': u'rgb(146, 178, 222)',\n",
    "            u'gridwidth': 1.3,\n",
    "            u'showgrid': True,\n",
    "            u'showticklabels': True,\n",
    "            u'type': u'linear',\n",
    "            u'zeroline': False,\n",
    "            u'zerolinecolor': u'rgb(255, 255, 255)'\n",
    "        }\n",
    "    },\n",
    "    u'showlegend': False,\n",
    "    u'titlefont': {\n",
    "        u'color': u'rgb(167, 202, 207)'\n",
    "    }\n",
    " }\n",
    "\n",
    "style_data = {\n",
    "    u'marker': {\n",
    "        u'color': u'rgba(146, 178, 222, 0.76)',\n",
    "        u'symbol': u'diamond-open'\n",
    "    },\n",
    "    u'mode': u'markers',\n",
    "    u'name': u'y',\n",
    "    u'opacity': 0.45,\n",
    "    u'projection': {\n",
    "        u'x': {u'show': False},\n",
    "        u'y': {u'show': False},\n",
    "        u'z': {u'show': False}\n",
    "    },\n",
    "    u'surfaceaxis': -1\n",
    "}"
   ]
  },
  {
   "cell_type": "code",
   "execution_count": null,
   "metadata": {
    "collapsed": false
   },
   "outputs": [],
   "source": [
    "np.dstack((r,g,b)).shape"
   ]
  },
  {
   "cell_type": "code",
   "execution_count": 8,
   "metadata": {
    "collapsed": false,
    "scrolled": false
   },
   "outputs": [
    {
     "ename": "NameError",
     "evalue": "name 'Scatter3d' is not defined",
     "output_type": "error",
     "traceback": [
      "\u001b[0;31m---------------------------------------------------------------------------\u001b[0m",
      "\u001b[0;31mNameError\u001b[0m                                 Traceback (most recent call last)",
      "\u001b[0;32m<ipython-input-8-ce61191f5801>\u001b[0m in \u001b[0;36m<module>\u001b[0;34m()\u001b[0m\n\u001b[1;32m      5\u001b[0m \u001b[0mlayout\u001b[0m\u001b[0;34m[\u001b[0m\u001b[0;34m'scene'\u001b[0m\u001b[0;34m]\u001b[0m\u001b[0;34m[\u001b[0m\u001b[0;34m'zaxis'\u001b[0m\u001b[0;34m]\u001b[0m\u001b[0;34m[\u001b[0m\u001b[0;34m'title'\u001b[0m\u001b[0;34m]\u001b[0m \u001b[0;34m=\u001b[0m \u001b[0;34m'value'\u001b[0m\u001b[0;34m\u001b[0m\u001b[0m\n\u001b[1;32m      6\u001b[0m \u001b[0;31m# x = Scatter3d(x=r, y=g, z=b, **style_data)\u001b[0m\u001b[0;34m\u001b[0m\u001b[0;34m\u001b[0m\u001b[0m\n\u001b[0;32m----> 7\u001b[0;31m \u001b[0mx\u001b[0m \u001b[0;34m=\u001b[0m \u001b[0mScatter3d\u001b[0m\u001b[0;34m(\u001b[0m\u001b[0mx\u001b[0m\u001b[0;34m=\u001b[0m\u001b[0mh\u001b[0m\u001b[0;34m,\u001b[0m \u001b[0my\u001b[0m\u001b[0;34m=\u001b[0m\u001b[0ms\u001b[0m\u001b[0;34m,\u001b[0m \u001b[0mz\u001b[0m\u001b[0;34m=\u001b[0m\u001b[0mv\u001b[0m\u001b[0;34m,\u001b[0m \u001b[0;34m**\u001b[0m\u001b[0mstyle_data\u001b[0m\u001b[0;34m)\u001b[0m\u001b[0;34m\u001b[0m\u001b[0m\n\u001b[0m\u001b[1;32m      8\u001b[0m \u001b[0mx\u001b[0m \u001b[0;34m=\u001b[0m \u001b[0mData\u001b[0m\u001b[0;34m(\u001b[0m\u001b[0;34m[\u001b[0m\u001b[0mx\u001b[0m\u001b[0;34m]\u001b[0m\u001b[0;34m)\u001b[0m\u001b[0;34m\u001b[0m\u001b[0m\n\u001b[1;32m      9\u001b[0m \u001b[0mfig\u001b[0m \u001b[0;34m=\u001b[0m \u001b[0mFigure\u001b[0m\u001b[0;34m(\u001b[0m\u001b[0mdata\u001b[0m\u001b[0;34m=\u001b[0m\u001b[0mx\u001b[0m\u001b[0;34m,\u001b[0m \u001b[0mlayout\u001b[0m\u001b[0;34m=\u001b[0m\u001b[0mlayout\u001b[0m\u001b[0;34m)\u001b[0m\u001b[0;34m\u001b[0m\u001b[0m\n",
      "\u001b[0;31mNameError\u001b[0m: name 'Scatter3d' is not defined"
     ]
    }
   ],
   "source": [
    "layout['height'] = 700\n",
    "layout['width'] = 700\n",
    "layout['scene']['xaxis']['title'] = 'hue'\n",
    "layout['scene']['yaxis']['title'] = 'saturation'\n",
    "layout['scene']['zaxis']['title'] = 'value'\n",
    "# x = Scatter3d(x=r, y=g, z=b, **style_data)\n",
    "x = Scatter3d(x=h, y=s, z=v, **style_data)\n",
    "x = Data([x])\n",
    "fig = Figure(data=x, layout=layout)\n",
    "plotly.iplot(fig)"
   ]
  },
  {
   "cell_type": "code",
   "execution_count": null,
   "metadata": {
    "collapsed": false
   },
   "outputs": [],
   "source": [
    "def get_color_data(source, patches=50):\n",
    "    img = Image.open(source)\n",
    "    \n",
    "    img = ImageScanner(img, **params)\n",
    "    datum = []\n",
    "    for patch in img.random_scan(patches):\n",
    "        patch = np.array(patch)\n",
    "        patch = patch.reshape(patch.shape[0] * patch.shape[1], 3)\n",
    "        datum.append(patch)\n",
    "    return np.concatenate(datum, axis=0)\n",
    "\n",
    "data = info['source'].apply(lambda x: get_color_data(x, 10))\n",
    "X = np.concatenate(data, axis=0)\n",
    "X = DataFrame(X, columns=['r', 'g', 'b'])"
   ]
  },
  {
   "cell_type": "code",
   "execution_count": null,
   "metadata": {
    "collapsed": false
   },
   "outputs": [],
   "source": [
    "info = get_info(source, spec)\n",
    "info = info[(info.pass_ == 'diffuse') & (info.image_class == 'a')]\n",
    "info.reset_index(drop=True, inplace=True)\n",
    "# info = info.head(2)\n",
    "\n",
    "data = []\n",
    "for i, row in info.iterrows():\n",
    "    img = Image.open(row['source'])\n",
    "    img = ImageScanner(img, **params)\n",
    "    datum = []\n",
    "    for patch in img.random_scan(50):\n",
    "        patch = np.array(patch)\n",
    "        patch = patch.reshape(patch.shape[0] * patch.shape[1], 3)\n",
    "        datum.append(patch)\n",
    "    datum = np.concatenate(datum, axis=0)\n",
    "    data.append(datum)\n",
    "data = np.concatenate(data, axis=0)\n",
    "data.shape"
   ]
  },
  {
   "cell_type": "code",
   "execution_count": null,
   "metadata": {
    "collapsed": false
   },
   "outputs": [],
   "source": [
    "X = data\n",
    "clf = KMeans(n_clusters=10, n_jobs=-1)\n",
    "%time clf.fit(X)"
   ]
  },
  {
   "cell_type": "code",
   "execution_count": null,
   "metadata": {
    "collapsed": false
   },
   "outputs": [],
   "source": [
    "clf.cluster_centers_"
   ]
  },
  {
   "cell_type": "code",
   "execution_count": null,
   "metadata": {
    "collapsed": false
   },
   "outputs": [],
   "source": [
    "y = clf.cluster_centers_\n",
    "\n",
    "fig, ax = plt.subplots(figsize=(50,50))\n",
    "\n",
    "pw_dist = squareform(pdist(X))\n",
    "h_clusters = linkage(pw_dist)\n",
    "\n",
    "ax = fig.add_subplot(221)\n",
    "dendrogram(h_clusters,\n",
    "    ax=ax,\n",
    "    color_threshold=1.89,\n",
    "    color_list=colors,\n",
    "    labels=data.headline.values,\n",
    "    leaf_font_size=14,\n",
    "#     leaf_rotation=90,\n",
    "    orientation='left')\n",
    "\n",
    "pw_dist = squareform(pdist(X.toarray(), metric='cosine'))\n",
    "h_clusters = linkage(pw_dist)\n",
    "# plt.figure(figsize=(50,50))\n",
    "ax = fig.add_subplot(222)\n",
    "dendrogram(h_clusters,\n",
    "    ax=ax,\n",
    "    color_threshold=1.3,\n",
    "    color_list=colors,\n",
    "    labels=data.headline.values,\n",
    "    leaf_font_size=14,\n",
    "#     leaf_rotation=90,\n",
    "    orientation='left')\n",
    "plt.tight_layout()\n",
    "plt.show();"
   ]
  },
  {
   "cell_type": "code",
   "execution_count": null,
   "metadata": {
    "collapsed": false
   },
   "outputs": [],
   "source": [
    "# info['scan_params'] = None\n",
    "# info.scan_params = info.scan_params.apply(lambda x: params)\n",
    "\n",
    "# def func(item):\n",
    "#     item['scan_params']['image'] = item['source']\n",
    "#     return item[1]\n",
    "# info[['source', 'scan_params']].apply(func, axis=1).head(1).values"
   ]
  },
  {
   "cell_type": "code",
   "execution_count": null,
   "metadata": {
    "collapsed": false
   },
   "outputs": [],
   "source": [
    "import os\n",
    "import inspect\n",
    "# _script = inspect.currentframe()\n",
    "# _script = inspect.getfile(_script)\n",
    "# _script = os.path.abspath(_script)\n",
    "# _script = os.path.dirname(_script)\n",
    "# _script = os.path.join(_script, 'to_format')\n",
    "\n",
    "def get_target(fullpath, format_):\n",
    "    base, filename = os.path.split(fullpath)\n",
    "    base = os.path.dirname(base)\n",
    "    filename = os.path.splitext(filename)[0] + '.' + format_\n",
    "    return os.path.join(base, format_, filename)\n",
    "\n",
    "def create_msgpacks(root):\n",
    "    args = [os.path.join(root, x) for x in os.listdir(root)]\n",
    "    args = [(x, get_target(x, 'msgpack')) for x in args]\n",
    "    target = os.path.split(args[0][1])[0]\n",
    "    if not os.path.exists(target):\n",
    "        os.mkdir(target)\n",
    "    execute_python_subshells(_script, args)"
   ]
  }
 ],
 "metadata": {
  "kernelspec": {
   "display_name": "Python 2",
   "language": "python",
   "name": "python2"
  },
  "language_info": {
   "codemirror_mode": {
    "name": "ipython",
    "version": 2
   },
   "file_extension": ".py",
   "mimetype": "text/x-python",
   "name": "python",
   "nbconvert_exporter": "python",
   "pygments_lexer": "ipython2",
   "version": "2.7.10"
  }
 },
 "nbformat": 4,
 "nbformat_minor": 0
}
